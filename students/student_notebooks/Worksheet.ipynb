{
 "cells": [
  {
   "cell_type": "code",
   "execution_count": null,
   "id": "ec81ae4a-e9a8-462d-9767-403e252da52c",
   "metadata": {
    "tags": []
   },
   "outputs": [],
   "source": [
    "from answer_engine import AnswerEngine\n",
    "answer_engine = AnswerEngine()"
   ]
  },
  {
   "cell_type": "code",
   "execution_count": null,
   "id": "23066b84-9aa3-452c-9188-7b4d6497f671",
   "metadata": {
    "tags": []
   },
   "outputs": [],
   "source": [
    "# Let's start with something simple! Please run through 1_Context.ipynb before answering this question.\n",
    "\n",
    "# Question 1:\n",
    "# What is the name of the Windows 2019 server?\n",
    "\n",
    "# Type your answer here. For those that are not trained in programming,\n",
    "# make sure your answer is between 2 double quotes (\"...\") or 2 single quotes ('...')\n",
    "# HINT: Maybe look under System.Co...\n",
    "answer = \"\"\n",
    "\n",
    "answer_engine.check_answer(1, answer)"
   ]
  },
  {
   "cell_type": "code",
   "execution_count": null,
   "id": "778b5978-02f8-4034-a8a2-d75a4191a08c",
   "metadata": {},
   "outputs": [],
   "source": [
    "# Please run through 2_InitialAccess.ipynb before answering this question.\n",
    "\n",
    "# Question 2:\n",
    "# Which user got compromised?\n",
    "answer = \"\"\n",
    "\n",
    "answer_engine.check_answer(2, answer)"
   ]
  },
  {
   "cell_type": "code",
   "execution_count": null,
   "id": "decda946-74cf-49b3-bd0c-4058da7a5097",
   "metadata": {
    "tags": []
   },
   "outputs": [],
   "source": [
    "# Please run through 2_InitialAccess.ipynb before answering this question.\n",
    "\n",
    "# Question 3:\n",
    "# What is the IP Address of the attacker?\n",
    "answer = \"\"\n",
    "\n",
    "answer_engine.check_answer(3, answer)"
   ]
  },
  {
   "cell_type": "code",
   "execution_count": null,
   "id": "40b77ca7-0778-4d7c-8472-326956361348",
   "metadata": {},
   "outputs": [],
   "source": [
    "# Please run through 2_InitialAccess.ipynb before answering this question.\n",
    "\n",
    "# Question 4:\n",
    "# At what time did the user get compromised? Leave your answer in UTC +0, including the 'Z' at the back.\n",
    "answer = \"\"\n",
    "\n",
    "answer_engine.check_answer(4, answer)"
   ]
  },
  {
   "cell_type": "code",
   "execution_count": null,
   "id": "999a428c-91cc-4c91-a886-e219d718026e",
   "metadata": {
    "tags": []
   },
   "outputs": [],
   "source": [
    "# Please run through 2_InitialAccess.ipynb before answering this question.\n",
    "\n",
    "# Question 5:\n",
    "# Which event ID is assoicated with a RDP authentication being successful?\n",
    "answer = \"\"\n",
    "\n",
    "answer_engine.check_answer(5, answer)"
   ]
  },
  {
   "cell_type": "code",
   "execution_count": null,
   "id": "b5b6fbf2-69d0-46ce-8a61-37298d6b20cc",
   "metadata": {
    "tags": []
   },
   "outputs": [],
   "source": [
    "# Please run through 2_InitialAccess.ipynb before answering this question.\n",
    "\n",
    "# Question 6:\n",
    "# Did the attacker do RDP or SSH first?\n",
    "# Answer either \"RDP\" / \"SSH\"\n",
    "answer = \"RDP\"\n",
    "\n",
    "answer_engine.check_answer(6, answer)"
   ]
  },
  {
   "cell_type": "code",
   "execution_count": null,
   "id": "ba50c453-4580-4756-94b1-a88cf578c836",
   "metadata": {
    "tags": []
   },
   "outputs": [],
   "source": [
    "# Please run through 3_FileAccess.ipynb before answering this question.\n",
    "\n",
    "# Question 7:\n",
    "# What were the full filepaths that the attacker accessed?\n",
    "\n",
    "# Remember to put a 'r' in front of your strings so that python treats backslashes as a literal (raw) character\n",
    "# Eg. r\"C:\\Users\\gerald\\Desktop\\Projects\\...\"\n",
    "answer = [r\"\", \n",
    "          r\"\", \n",
    "          r\"\",\n",
    "          r\"\",\n",
    "          r\"\"]\n",
    "\n",
    "# ------------------------------------------- DO NOT TOUCH ------------------------------------------- #\n",
    "tmp = \"\"\n",
    "for a in sorted(answer):\n",
    "    tmp += a\n",
    "answer_engine.check_answer(7, tmp)"
   ]
  },
  {
   "cell_type": "code",
   "execution_count": null,
   "id": "6910bab7-3736-4865-a585-98beee26143c",
   "metadata": {
    "tags": []
   },
   "outputs": [],
   "source": [
    "# Please run through 3_FileAccess.ipynb before answering this question.\n",
    "\n",
    "# Question 8:\n",
    "# What was the file that the attacker edited in order to login to the Windows Server via SSH as gerald?\n",
    "answer = r\"\"\n",
    "\n",
    "answer_engine.check_answer(8, answer)"
   ]
  },
  {
   "cell_type": "code",
   "execution_count": null,
   "id": "652ee346-3737-4f5e-94fb-34bb12ae7149",
   "metadata": {
    "tags": []
   },
   "outputs": [],
   "source": [
    "# Please run through 3_FileAccess.ipynb before answering this question.\n",
    "\n",
    "# Question 9:\n",
    "# What are the sequence of event IDs that you see when the attacker read any file?\n",
    "# Please state them in CHRONOLOGICAL order.\n",
    "answer = [\"\",\n",
    "         \"\",\n",
    "         \"\",\n",
    "         \"\"]\n",
    "\n",
    "# ------------------------------------------- DO NOT TOUCH ------------------------------------------- #\n",
    "tmp = \"\"\n",
    "for a in answer:\n",
    "    tmp += a\n",
    "answer_engine.check_answer(9, tmp)"
   ]
  },
  {
   "cell_type": "code",
   "execution_count": null,
   "id": "3b121236-ac4d-48c9-ac91-a799df022025",
   "metadata": {},
   "outputs": [],
   "source": [
    "# Please run through 4_FileTransfer.ipynb before answering this question.\n",
    "\n",
    "# Question 10:\n",
    "# What was the command that was run to exfiltrate out the compromised user's files?\n",
    "answer = r''\n",
    "\n",
    "answer_engine.check_answer(10, answer)"
   ]
  },
  {
   "cell_type": "code",
   "execution_count": null,
   "id": "a6d6b884-75e6-4bc1-a178-7654fdd4f9ad",
   "metadata": {
    "tags": []
   },
   "outputs": [],
   "source": [
    "# Please run through 4_FileTransfer.ipynb before answering this question.\n",
    "\n",
    "# Question 11:\n",
    "# What was the command that was run to transfer malicious files onto the server?\n",
    "# HINT1: scp -r -t ...\n",
    "answer = r''\n",
    "\n",
    "answer_engine.check_answer(11, answer)"
   ]
  },
  {
   "cell_type": "code",
   "execution_count": null,
   "id": "a5ac642a-1771-4937-a302-4500f3b5a223",
   "metadata": {},
   "outputs": [],
   "source": [
    "# Please run through 5_PrivEsc.ipynb before answering this question\n",
    "\n",
    "# Question 12:\n",
    "# What was the registry key that was accessed upong running a powershell script/command?\n",
    "answer = r\"\"\n",
    "\n",
    "answer_engine.check_answer(12, answer)"
   ]
  },
  {
   "cell_type": "code",
   "execution_count": null,
   "id": "9e9c68e0-2e4e-4432-be0d-e095bd2ef266",
   "metadata": {
    "tags": []
   },
   "outputs": [],
   "source": [
    "answer_engine.get_score()"
   ]
  },
  {
   "cell_type": "code",
   "execution_count": null,
   "id": "aa41d12c-2114-45ca-ab16-531f727f2582",
   "metadata": {},
   "outputs": [],
   "source": []
  }
 ],
 "metadata": {
  "kernelspec": {
   "display_name": "Python 3 (ipykernel)",
   "language": "python",
   "name": "python3"
  },
  "language_info": {
   "codemirror_mode": {
    "name": "ipython",
    "version": 3
   },
   "file_extension": ".py",
   "mimetype": "text/x-python",
   "name": "python",
   "nbconvert_exporter": "python",
   "pygments_lexer": "ipython3",
   "version": "3.10.9"
  }
 },
 "nbformat": 4,
 "nbformat_minor": 5
}
