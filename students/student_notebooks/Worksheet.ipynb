{
 "cells": [
  {
   "cell_type": "code",
   "execution_count": null,
   "id": "ec81ae4a-e9a8-462d-9767-403e252da52c",
   "metadata": {
    "tags": []
   },
   "outputs": [],
   "source": [
    "from answer_engine import AnswerEngine\n",
    "answer_engine = AnswerEngine()"
   ]
  },
  {
   "cell_type": "markdown",
   "id": "ca787296-42d5-401c-a399-7ae4efbd884f",
   "metadata": {
    "tags": []
   },
   "source": [
    "# `1_Context.ipynb` Answers"
   ]
  },
  {
   "cell_type": "markdown",
   "id": "d80ed7ee-c277-4a48-856a-24d8e74b82aa",
   "metadata": {
    "tags": []
   },
   "source": [
    "## Question 1: \n",
    "What is the name of the Windows 2019 server? <br>\n",
    "<details>\n",
    "    <summary><font color='blue'>Reveal Hint</font></summary>\n",
    "    └─ Look under System.Computer Field Name\n",
    "</details>"
   ]
  },
  {
   "cell_type": "code",
   "execution_count": null,
   "id": "c875dda4-53da-4a7a-a0b2-b7d9fef7026a",
   "metadata": {
    "tags": []
   },
   "outputs": [],
   "source": [
    "answer = \"\"\n",
    "\n",
    "answer_engine.check_answer(1, answer)"
   ]
  },
  {
   "cell_type": "markdown",
   "id": "0971e98d-b9d9-45aa-9d0c-dbf0846e375d",
   "metadata": {
    "tags": []
   },
   "source": [
    "# `2_InitialAccess.ipynb` Answers"
   ]
  },
  {
   "cell_type": "markdown",
   "id": "79be1279-f8d0-41ca-a5dd-75d99e6a7d79",
   "metadata": {
    "tags": []
   },
   "source": [
    "## Question 2:\n",
    "Which user got compromised?\n",
    "<details>\n",
    "    <summary><font color='blue'>Reveal Hint</font></summary>\n",
    "    └─ The user that login with an unknown IP Address\n",
    "</details>"
   ]
  },
  {
   "cell_type": "code",
   "execution_count": null,
   "id": "d69c9141-7932-4849-99ad-a4e71bdfffc1",
   "metadata": {},
   "outputs": [],
   "source": [
    "answer = \"\"\n",
    "\n",
    "answer_engine.check_answer(2, answer.lower())"
   ]
  },
  {
   "cell_type": "markdown",
   "id": "1b81b2d5-ccb5-4d11-99a3-8a9a72dfd998",
   "metadata": {
    "tags": []
   },
   "source": [
    "## Question 3:\n",
    "What is the IP Address of the attacker?\n",
    "<details>\n",
    "    <summary><font color='blue'>Reveal Hint</font></summary>\n",
    "    └─ The unknown IP Address\n",
    "</details>"
   ]
  },
  {
   "cell_type": "code",
   "execution_count": null,
   "id": "9786fb1e-ef49-4b08-857d-c3bae9815f3e",
   "metadata": {
    "tags": []
   },
   "outputs": [],
   "source": [
    "answer = \"\"\n",
    "\n",
    "answer_engine.check_answer(3, answer)"
   ]
  },
  {
   "cell_type": "markdown",
   "id": "204e96ee-91f7-439d-b7e0-3cb0fad36cfb",
   "metadata": {},
   "source": [
    "## Question 4:\n",
    "What time did the user get compromised? <br>\n",
    "Leave your answer in UTC +0, including all the decimal points and the 'Z' at the back."
   ]
  },
  {
   "cell_type": "code",
   "execution_count": null,
   "id": "675821c5-cd6e-4b31-b782-179e4f0b0733",
   "metadata": {},
   "outputs": [],
   "source": [
    "answer = \"\"\n",
    "\n",
    "answer_engine.check_answer(4, answer)"
   ]
  },
  {
   "cell_type": "markdown",
   "id": "40aa2eca-1121-4e49-a599-1f684e26561a",
   "metadata": {
    "tags": []
   },
   "source": [
    "## Question 5:\n",
    "Which event ID is assoicated with a RDP authentication being successful?"
   ]
  },
  {
   "cell_type": "code",
   "execution_count": null,
   "id": "6e075b7b-0b7c-461e-b198-bc6734eeead6",
   "metadata": {
    "tags": []
   },
   "outputs": [],
   "source": [
    "answer = \"\"\n",
    "\n",
    "answer_engine.check_answer(5, answer)"
   ]
  },
  {
   "cell_type": "markdown",
   "id": "3f1e8d64-8f74-474d-b53e-ec8b6f743098",
   "metadata": {
    "tags": []
   },
   "source": [
    "## Question 6:\n",
    "Did the attacker do RDP or SSH first?"
   ]
  },
  {
   "cell_type": "code",
   "execution_count": null,
   "id": "5dbe376d-2f9c-4dc9-8e0e-8e3b4f81accc",
   "metadata": {
    "tags": []
   },
   "outputs": [],
   "source": [
    "answer = \"\"\n",
    "\n",
    "answer_engine.check_answer(6, answer.upper())"
   ]
  },
  {
   "cell_type": "markdown",
   "id": "9bd06823-0eb3-4daa-b74b-6d301daef92f",
   "metadata": {
    "tags": []
   },
   "source": [
    "# `3_FileAccess.ipynb` Answers"
   ]
  },
  {
   "cell_type": "markdown",
   "id": "d296978d-149f-44c6-93b5-9f7ef7efe38b",
   "metadata": {
    "tags": []
   },
   "source": [
    "## Question 7:\n",
    "What were the first 5 files that the attacker accessed? (Please state the full filepaths)\n",
    "\n",
    "Remember to put a 'r' in front of your strings so that python treats backslashes as a literal (raw) character <br>\n",
    "Eg. r\"C:\\Users\\gerald\\Desktop\\Projects\\...\""
   ]
  },
  {
   "cell_type": "code",
   "execution_count": null,
   "id": "defc691f-b64f-4518-a803-1d5094aa6ed4",
   "metadata": {
    "tags": []
   },
   "outputs": [],
   "source": [
    "answer = [r\"\", \n",
    "          r\"\",\n",
    "          r\"\", \n",
    "          r\"\", \n",
    "          r\"\"]\n",
    "\n",
    "# ------------------------------------------- DO NOT TOUCH ------------------------------------------- #\n",
    "tmp = \"\"\n",
    "for a in sorted(answer):\n",
    "    tmp += a\n",
    "answer_engine.check_answer(7, tmp)"
   ]
  },
  {
   "cell_type": "markdown",
   "id": "cea2ab3f-249e-4947-8270-6831e0b6fd7e",
   "metadata": {
    "tags": []
   },
   "source": [
    "## Question 8:\n",
    "What was the file that the attacker edited in order to login to the Windows Server via SSH as the compromised user?\n",
    "<details>\n",
    "    <summary><font color='blue'>Reveal Hint</font></summary>\n",
    "    └─ A user is able to ssh as a user without password authentication if their public key has been added in authorized_keys\n",
    "</details>"
   ]
  },
  {
   "cell_type": "code",
   "execution_count": null,
   "id": "498f4af7-9931-4043-812a-52ff70ada50e",
   "metadata": {
    "tags": []
   },
   "outputs": [],
   "source": [
    "answer = r\"\"\n",
    "\n",
    "answer_engine.check_answer(8, answer)"
   ]
  },
  {
   "cell_type": "markdown",
   "id": "11bae740-c979-45e0-8559-98c3a8df4339",
   "metadata": {
    "tags": []
   },
   "source": [
    "## Question 9:\n",
    "What are the sequence of event IDs that you see when the attacker read any file? <br>\n",
    "Please state them in **CHRONOLOGICAL** order.\n",
    "<details>\n",
    "    <summary><font color='blue'>Reveal Hint</font></summary>\n",
    "    └─ Look at EventData.CommandLine where notepad.exe has been run.\n",
    "</details>"
   ]
  },
  {
   "cell_type": "code",
   "execution_count": null,
   "id": "05494d5f-15d6-408b-9f3f-6c7f688dd57f",
   "metadata": {
    "tags": []
   },
   "outputs": [],
   "source": [
    "answer = [\"\",\n",
    "         \"\",\n",
    "         \"\",\n",
    "         \"\"]\n",
    "\n",
    "# ------------------------------------------- DO NOT TOUCH ------------------------------------------- #\n",
    "tmp = \"\"\n",
    "for a in answer:\n",
    "    tmp += a\n",
    "answer_engine.check_answer(9, tmp)"
   ]
  },
  {
   "cell_type": "markdown",
   "id": "3c7c5d69-1c6a-4e89-8000-206e2aaf7382",
   "metadata": {
    "tags": []
   },
   "source": [
    "# `4_FileTransfer.ipynb` Answers"
   ]
  },
  {
   "cell_type": "markdown",
   "id": "aff46d7d-9a60-4c80-86d5-3faf142281ee",
   "metadata": {},
   "source": [
    "## Question 10:\n",
    "What was the command that was run to exfiltrate out the compromised user's files?\n",
    "<details>\n",
    "    <summary><font color='blue'>Reveal Hint</font></summary>\n",
    "    └─ To copy to or from an OpenSSH Server, users would use <b>scp</b>.<br>\n",
    "    └─ Look for <b>scp</b> with the <b>-f</b> flag\n",
    "</details>"
   ]
  },
  {
   "cell_type": "code",
   "execution_count": null,
   "id": "0f4c33ed-0d2a-4cfa-8b6a-926a8d0d4a69",
   "metadata": {},
   "outputs": [],
   "source": [
    "answer = r''\n",
    "\n",
    "answer_engine.check_answer(10, answer)"
   ]
  },
  {
   "cell_type": "markdown",
   "id": "fcfc9350-3333-4ce6-ac78-c054bceb2d53",
   "metadata": {
    "tags": []
   },
   "source": [
    "Please run through `4_FileTransfer.ipynb` before answering this question.\n",
    "\n",
    "## Question 11:\n",
    "What was the command that was run to transfer malicious files onto the server?\n",
    "<details>\n",
    "    <summary><font color='blue'>Reveal Hint</font></summary>\n",
    "    └─ To copy to or from an OpenSSH Server, users would use <b>scp</b>.<br>\n",
    "    └─ Look for <b>scp</b> with the <b>-t</b> flag\n",
    "</details>"
   ]
  },
  {
   "cell_type": "code",
   "execution_count": null,
   "id": "7277d4d8-9199-40ac-baad-e460b5750360",
   "metadata": {
    "tags": []
   },
   "outputs": [],
   "source": [
    "answer = r''\n",
    "\n",
    "answer_engine.check_answer(11, answer)"
   ]
  },
  {
   "cell_type": "markdown",
   "id": "d9a2af4a-0eaa-409d-ac33-298baa079176",
   "metadata": {},
   "source": [
    "# `5_PrivEsc.ipynb` Answers"
   ]
  },
  {
   "cell_type": "markdown",
   "id": "5b8addab-5662-4a1f-9de9-03fbd6a87b99",
   "metadata": {},
   "source": [
    "## Question 12:\n",
    "What was the registry key that was accessed upon running a powershell script/command?\n",
    "<details>\n",
    "    <summary><font color='blue'>Reveal Hint</font></summary>\n",
    "    └─ EventData.ObjectType is 'key'\n",
    "</details>"
   ]
  },
  {
   "cell_type": "code",
   "execution_count": null,
   "id": "9ff19b5e-4b90-4cda-b39c-5134d8c33cd1",
   "metadata": {},
   "outputs": [],
   "source": [
    "answer = r\"\"\n",
    "\n",
    "answer_engine.check_answer(12, answer)"
   ]
  },
  {
   "cell_type": "code",
   "execution_count": null,
   "id": "9e9c68e0-2e4e-4432-be0d-e095bd2ef266",
   "metadata": {
    "tags": []
   },
   "outputs": [],
   "source": [
    "print(answer_engine.get_score())\n",
    "print(answer_engine.get_engine_hashes())"
   ]
  }
 ],
 "metadata": {
  "kernelspec": {
   "display_name": "Python 3 (ipykernel)",
   "language": "python",
   "name": "python3"
  },
  "language_info": {
   "codemirror_mode": {
    "name": "ipython",
    "version": 3
   },
   "file_extension": ".py",
   "mimetype": "text/x-python",
   "name": "python",
   "nbconvert_exporter": "python",
   "pygments_lexer": "ipython3",
   "version": "3.11.5"
  }
 },
 "nbformat": 4,
 "nbformat_minor": 5
}
