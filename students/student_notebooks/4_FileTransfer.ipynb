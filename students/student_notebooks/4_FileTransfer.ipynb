{
 "cells": [
  {
   "cell_type": "code",
   "execution_count": null,
   "id": "304db92e-b48b-486d-a5ee-9d7e204184ca",
   "metadata": {
    "tags": []
   },
   "outputs": [],
   "source": [
    "import pandas as pd\n",
    "from IPython.display import display, HTML\n",
    "pd.set_option(\"display.max_rows\", None)"
   ]
  },
  {
   "cell_type": "code",
   "execution_count": null,
   "id": "d75d3ae9-a356-4dd7-bf54-da539dc4cdcd",
   "metadata": {
    "tags": []
   },
   "outputs": [],
   "source": [
    "df_sysmon = pd.read_csv(\"../datasets/windows/csv/Sysmon.csv\", dtype=str)"
   ]
  },
  {
   "cell_type": "code",
   "execution_count": null,
   "id": "21868c0f-f78d-4186-88da-a0a42c6e9710",
   "metadata": {
    "tags": []
   },
   "outputs": [],
   "source": [
    "# TODO:\n",
    "# 1. Look for any signs of exfiltrating files by filtering for cmd.exe OR powershell.exe.\n",
    "# 2. Filter events only after the user account got compromised\n",
    "# HINT 1: Filter using the 'EventData.ParentImage' for df_sysmon\n",
    "# HINT 2: What is the full path of cmd.exe and powershell.exe?\n",
    "\n",
    "df_sysmon_filtered = df_sysmon[(df_sysmon[\"\"] == r\"\") | (df_sysmon[\"\"] == r\"\")]\n",
    "df_sysmon_filtered = df_sysmon_filtered[df_sysmon_filtered[\"\"] >= \"\"]"
   ]
  },
  {
   "cell_type": "code",
   "execution_count": null,
   "id": "e1fc7f4f-0839-4e49-97c9-4a96dd52b53e",
   "metadata": {
    "tags": []
   },
   "outputs": [],
   "source": [
    "# Run this cell and answer question 10 and 11.\n",
    "'''\n",
    "DO NOT TOUCH THIS SEGMENT! JUST RUN IT!\n",
    "'''\n",
    "useful_sysmon_fields = [\"System.TimeCreated_attributes.SystemTime\",\n",
    "                        \"EventData.ParentImage\",\n",
    "                        \"EventData.CommandLine\",\n",
    "                        \"EventData.User\"]\n",
    "display(HTML(\"<div style='height: 500px; overflow: auto; width: fit-content'>\" +\n",
    "             df_sysmon_filtered[useful_sysmon_fields].style.to_html() +\n",
    "             \"</div>\"))\n",
    "\n",
    "# We will notice that we are still missing some information on how the attacker managed to privilege escalate."
   ]
  }
 ],
 "metadata": {
  "kernelspec": {
   "display_name": "Python 3 (ipykernel)",
   "language": "python",
   "name": "python3"
  },
  "language_info": {
   "codemirror_mode": {
    "name": "ipython",
    "version": 3
   },
   "file_extension": ".py",
   "mimetype": "text/x-python",
   "name": "python",
   "nbconvert_exporter": "python",
   "pygments_lexer": "ipython3",
   "version": "3.10.9"
  }
 },
 "nbformat": 4,
 "nbformat_minor": 5
}
