{
 "cells": [
  {
   "cell_type": "markdown",
   "id": "7509f4c0-c383-4169-998e-df854ba8a410",
   "metadata": {
    "tags": []
   },
   "source": [
    "# Instructions\n",
    "- Run all cells to understand the dataset that we will be dealing with.\n",
    "- You can try running individual cells with `Shift + Enter` also.\n",
    "- Answer Question 1 in `Worksheet.ipynb`"
   ]
  },
  {
   "cell_type": "code",
   "execution_count": null,
   "id": "349616f8-1076-403a-90bb-8a97e3a79671",
   "metadata": {
    "tags": []
   },
   "outputs": [],
   "source": [
    "import pandas as pd\n",
    "from IPython.display import Image"
   ]
  },
  {
   "cell_type": "code",
   "execution_count": null,
   "id": "fdb0cb2f-0984-4a08-a86f-931b0d9d75f3",
   "metadata": {
    "tags": []
   },
   "outputs": [],
   "source": [
    "# Dataframes related to Window's Audit Logs\n",
    "df_application = pd.read_csv(\"../datasets/windows/csv/Application.csv\", dtype=str)\n",
    "df_security = pd.read_csv(\"../datasets/windows/csv/Security.csv\", dtype=str)\n",
    "df_system = pd.read_csv(\"../datasets/windows/csv/System.csv\", dtype=str)\n",
    "\n",
    "# Dataframes related to remote connections\n",
    "df_openssh = pd.read_csv(\"../datasets/windows/csv/OpenSSH.csv\", dtype=str)\n",
    "df_rdp = pd.read_csv(\"../datasets/windows/csv/RDP.csv\", dtype=str)\n",
    "\n",
    "# Dataframes related to events captured by Sysmon (more comprehensive)\n",
    "df_sysmon = pd.read_csv(\"../datasets/windows/csv/Sysmon.csv\", dtype=str)"
   ]
  },
  {
   "cell_type": "markdown",
   "id": "05a8a25f-b9b0-4364-950b-3ddb7c85d710",
   "metadata": {
    "tags": []
   },
   "source": [
    "## Application Windows Event Logs\n",
    "Run the cell below (`Shift + Enter`) to peek at the first 5 logs in the Application Windows Event Logs."
   ]
  },
  {
   "cell_type": "code",
   "execution_count": null,
   "id": "73fb8359-6f8d-47e6-8cdb-8fca45c5b475",
   "metadata": {
    "tags": []
   },
   "outputs": [],
   "source": [
    "df_application.head(5)"
   ]
  },
  {
   "cell_type": "markdown",
   "id": "391c8d1c-bade-409d-be85-60e1212bf7a1",
   "metadata": {
    "tags": []
   },
   "source": [
    "## Security Windows Event Logs\n",
    "Run the cell below (`Shift + Enter`) to peek at the first 5 logs in the Security Windows Event Logs."
   ]
  },
  {
   "cell_type": "code",
   "execution_count": null,
   "id": "40f13cdb-9f0f-4f8e-83eb-dba92087a50e",
   "metadata": {
    "tags": []
   },
   "outputs": [],
   "source": [
    "df_security.head(5)"
   ]
  },
  {
   "cell_type": "markdown",
   "id": "ffdcd7e4-41fa-4825-9991-884893e18f57",
   "metadata": {},
   "source": [
    "## System Windows Event Logs\n",
    "Run the cell below (`Shift + Enter`) to peek at the first 5 logs in the System Windows Event Logs."
   ]
  },
  {
   "cell_type": "code",
   "execution_count": null,
   "id": "99bc31a1-dc93-418a-b865-8ac7eafe1e62",
   "metadata": {
    "tags": []
   },
   "outputs": [],
   "source": [
    "df_system.head(5)"
   ]
  },
  {
   "cell_type": "markdown",
   "id": "17752c15-5c54-4377-9035-c2ef0f45036c",
   "metadata": {},
   "source": [
    "## OpenSSH Windows Event Logs\n",
    "Run the cell below (`Shift + Enter`) to peek at the first 5 logs in the OpenSSH Windows Event Logs."
   ]
  },
  {
   "cell_type": "code",
   "execution_count": null,
   "id": "2ebd3d4d-aacb-4c0d-8308-a9843cc64ff3",
   "metadata": {
    "tags": []
   },
   "outputs": [],
   "source": [
    "df_openssh.head(5)"
   ]
  },
  {
   "cell_type": "markdown",
   "id": "7db280c0-15f2-49fe-9d33-db60899f58bb",
   "metadata": {},
   "source": [
    "## RDP Windows Event Logs\n",
    "Run the cell below (`Shift + Enter`) to peek at the first 5 logs in the RDP Windows Event Logs."
   ]
  },
  {
   "cell_type": "code",
   "execution_count": null,
   "id": "ddc5704f-0899-43dd-a9c8-3b1f2ce7dca1",
   "metadata": {
    "tags": []
   },
   "outputs": [],
   "source": [
    "df_rdp.head(5)"
   ]
  },
  {
   "cell_type": "code",
   "execution_count": null,
   "id": "5c86da2b-613e-438e-bbaf-4bfad84076f2",
   "metadata": {
    "tags": []
   },
   "outputs": [],
   "source": [
    "df_sysmon.head(5)"
   ]
  },
  {
   "cell_type": "markdown",
   "id": "0e103e51-6748-4399-96c3-f5bbd389100b",
   "metadata": {},
   "source": [
    "## Network Diagram\n",
    "Run the cell below (`Shift + Enter`) to show network diagram."
   ]
  },
  {
   "cell_type": "code",
   "execution_count": null,
   "id": "58af362c-0419-4b11-8aa8-177e5d1e2a36",
   "metadata": {
    "tags": []
   },
   "outputs": [],
   "source": [
    "Image(filename='../images/network_diagram.png') "
   ]
  },
  {
   "cell_type": "code",
   "execution_count": null,
   "id": "0d584d4c-00e5-4214-82f5-8da7a7b3d5f8",
   "metadata": {},
   "outputs": [],
   "source": []
  }
 ],
 "metadata": {
  "kernelspec": {
   "display_name": "Python 3 (ipykernel)",
   "language": "python",
   "name": "python3"
  },
  "language_info": {
   "codemirror_mode": {
    "name": "ipython",
    "version": 3
   },
   "file_extension": ".py",
   "mimetype": "text/x-python",
   "name": "python",
   "nbconvert_exporter": "python",
   "pygments_lexer": "ipython3",
   "version": "3.11.5"
  }
 },
 "nbformat": 4,
 "nbformat_minor": 5
}
