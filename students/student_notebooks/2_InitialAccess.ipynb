{
 "cells": [
  {
   "cell_type": "code",
   "execution_count": null,
   "id": "91f53237-5cf9-478c-9ca4-d24b3f86831f",
   "metadata": {
    "tags": []
   },
   "outputs": [],
   "source": [
    "import pandas as pd\n",
    "import re\n",
    "from IPython.display import display, HTML\n",
    "pd.set_option(\"display.max_rows\", None)"
   ]
  },
  {
   "cell_type": "code",
   "execution_count": null,
   "id": "62b3c7ee-e867-4290-bd7f-6e2b52d97604",
   "metadata": {
    "tags": []
   },
   "outputs": [],
   "source": [
    "df_rdp = pd.read_csv(\"../datasets/windows/csv/RDP.csv\", dtype=str)\n",
    "df_openssh = pd.read_csv(\"../datasets/windows/csv/openssh.csv\", dtype=str)"
   ]
  },
  {
   "cell_type": "code",
   "execution_count": null,
   "id": "3de97304-4642-4351-a785-b92e8bdaa355",
   "metadata": {
    "tags": []
   },
   "outputs": [],
   "source": [
    "# TODO: Fill in the list below and run all cells to answer questions 2 - 6\n",
    "\n",
    "# With reference to our network diagram, we know a list of legitimate client IPs.\n",
    "# Therefore we could naively filter out these IPs for now.\n",
    "\n",
    "legitimate_client_ip_list = [\"\", \"\", \"\", \"\"]"
   ]
  },
  {
   "cell_type": "code",
   "execution_count": null,
   "id": "e996a4a0-66e0-4c42-b1a6-bb67a45ab9da",
   "metadata": {
    "tags": []
   },
   "outputs": [],
   "source": [
    "# Run this cell and answer question 2,3,4,5\n",
    "'''\n",
    "DO NOT TOUCH THIS SEGMENT! JUST RUN IT!\n",
    "\n",
    "We are looking for IP addresses that show up in the RDP dataframe that is not part of the network diagram.\n",
    "'''\n",
    "useful_rdp_fieldnames = [\"System.TimeCreated_attributes.SystemTime\",\n",
    "                    \"System.EventID\",\n",
    "                    \"UserData.EventXML.Param1\",\n",
    "                    \"UserData.EventXML.Param2\",\n",
    "                    \"UserData.EventXML.Param3\"]\n",
    "df_rdp_filtered = df_rdp[~df_rdp[\"UserData.EventXML.Param3\"].isin(legitimate_client_ip_list)]\n",
    "display(HTML(\"<div style='height: 200px; overflow: auto; width: fit-content'>\" +\n",
    "             df_rdp_filtered[useful_rdp_fieldnames].style.to_html() +\n",
    "             \"</div>\"))"
   ]
  },
  {
   "cell_type": "code",
   "execution_count": null,
   "id": "567614d6-708f-4428-9bd5-f3efdea6104d",
   "metadata": {
    "tags": []
   },
   "outputs": [],
   "source": [
    "# Run this cell and answer question 6\n",
    "'''\n",
    "DO NOT TOUCH THIS SEGMENT! JUST RUN IT!\n",
    "\n",
    "We are looking for IP addresses that show up in the SSH dataframe that is not part of the network diagram.\n",
    "'''\n",
    "def grep_ip_regex(message: str) -> str:\n",
    "    ip_addr = None\n",
    "    message_regex = re.compile(r\"^.* from (\\d{1,3}.\\d{1,3}.\\d{1,3}.\\d{1,3}) .* ?\")\n",
    "    match = message_regex.search(message)\n",
    "    if match:\n",
    "        ip_addr = match.group(1)\n",
    "    return ip_addr\n",
    "\n",
    "useful_openssh_fieldnames = [\"System.TimeCreated_attributes.SystemTime\",\n",
    "                            \"System.EventID\",\n",
    "                            \"EventData.payload\",\n",
    "                            \"Source.IP\"]\n",
    "\n",
    "df_openssh[\"Source.IP\"] = df_openssh[\"EventData.payload\"].apply(lambda x: grep_ip_regex(x))\n",
    "df_openssh_filtered = df_openssh[~df_openssh[\"Source.IP\"].isin(legitimate_client_ip_list)]\n",
    "display(HTML(\"<div style='height: 200px; overflow: auto; width: fit-content'>\" +\n",
    "             df_openssh_filtered[useful_openssh_fieldnames].style.to_html() +\n",
    "             \"</div>\"))"
   ]
  },
  {
   "cell_type": "code",
   "execution_count": null,
   "id": "f0d5f779-ccee-4f17-b52b-baa6c0265003",
   "metadata": {},
   "outputs": [],
   "source": []
  }
 ],
 "metadata": {
  "kernelspec": {
   "display_name": "Python 3 (ipykernel)",
   "language": "python",
   "name": "python3"
  },
  "language_info": {
   "codemirror_mode": {
    "name": "ipython",
    "version": 3
   },
   "file_extension": ".py",
   "mimetype": "text/x-python",
   "name": "python",
   "nbconvert_exporter": "python",
   "pygments_lexer": "ipython3",
   "version": "3.10.9"
  }
 },
 "nbformat": 4,
 "nbformat_minor": 5
}
