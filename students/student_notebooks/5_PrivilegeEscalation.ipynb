{
 "cells": [
  {
   "cell_type": "code",
   "execution_count": null,
   "id": "b8d50d50-5cba-4b9b-9fe2-b7461bda71e1",
   "metadata": {
    "tags": []
   },
   "outputs": [],
   "source": [
    "import pandas as pd\n",
    "from IPython.display import display, HTML\n",
    "pd.set_option(\"display.max_rows\", None)"
   ]
  },
  {
   "cell_type": "code",
   "execution_count": null,
   "id": "b0ab2a4a-5327-4c90-9a96-be618e683c98",
   "metadata": {
    "tags": []
   },
   "outputs": [],
   "source": [
    "# TODO\n",
    "# 1. Using pd.read_csv(..., dtype=str), read in \"../datasets/windows/csv/Security.csv\" to a dataframe variable named 'df_security'\n",
    "# 2. Filter events between the first time powershell was invoked and whoami /all was ran.\n",
    "# 3. Filter EventData.ProcessName to only have powershell.exe\n",
    "\n"
   ]
  },
  {
   "cell_type": "code",
   "execution_count": null,
   "id": "a66922ca-78d8-4701-94d7-7fc4c6284f23",
   "metadata": {
    "tags": []
   },
   "outputs": [],
   "source": [
    "# Run this cell and answer question 12.\n",
    "'''\n",
    "DO NOT TOUCH THIS SEGMENT! JUST RUN IT!\n",
    "'''\n",
    "useful_security_fields = [\"System.TimeCreated_attributes.SystemTime\", \n",
    "                          \"EventData.SubjectUserName\",\n",
    "                          \"EventData.ParentProcessName\", \n",
    "                          \"EventData.ProcessName\", \n",
    "                          \"EventData.CommandLine\",\n",
    "                          \"EventData.ObjectName\",\n",
    "                          \"EventData.ObjectType\",\n",
    "                          \"System.EventID\"]\n",
    "display(HTML(\"<div style='height: 500px; overflow: auto; width: fit-content'>\" +\n",
    "             df_security_filtered[useful_security_fields].style.to_html() +\n",
    "             \"</div>\"))"
   ]
  },
  {
   "cell_type": "code",
   "execution_count": null,
   "id": "dc8639cc-5005-4b26-85b6-76ec2cb8b086",
   "metadata": {},
   "outputs": [],
   "source": []
  }
 ],
 "metadata": {
  "kernelspec": {
   "display_name": "Python 3 (ipykernel)",
   "language": "python",
   "name": "python3"
  },
  "language_info": {
   "codemirror_mode": {
    "name": "ipython",
    "version": 3
   },
   "file_extension": ".py",
   "mimetype": "text/x-python",
   "name": "python",
   "nbconvert_exporter": "python",
   "pygments_lexer": "ipython3",
   "version": "3.9.13"
  }
 },
 "nbformat": 4,
 "nbformat_minor": 5
}
