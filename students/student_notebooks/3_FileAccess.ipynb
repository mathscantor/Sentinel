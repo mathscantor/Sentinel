{
 "cells": [
  {
   "cell_type": "code",
   "execution_count": null,
   "id": "3c70d5d1-d2a8-4498-a1a8-c0d3289415d3",
   "metadata": {
    "tags": []
   },
   "outputs": [],
   "source": [
    "import pandas as pd\n",
    "from IPython.display import display, HTML\n",
    "pd.set_option(\"display.max_rows\", None)"
   ]
  },
  {
   "cell_type": "code",
   "execution_count": null,
   "id": "ee8f13c5-803d-44d9-8e9e-a98b0496c7dc",
   "metadata": {
    "tags": []
   },
   "outputs": [],
   "source": [
    "'''\n",
    "DO NOT TOUCH THIS SEGMENT! JUST RUN IT!\n",
    "'''\n",
    "df_sysmon = pd.read_csv(\"../datasets/windows/csv/Sysmon.csv\", dtype=str)\n",
    "display(HTML(\"<div style='height: 500px; overflow: auto; width: fit-content'>\" +\n",
    "             df_sysmon.style.to_html() +\n",
    "             \"</div>\"))\n",
    "\n",
    "# You will realised the the dataframe is very noisy. \n",
    "# Therefore, for the next part, it is your job to filter out unnecessary data."
   ]
  },
  {
   "cell_type": "code",
   "execution_count": null,
   "id": "3b802952-8cc8-48cf-b8a9-3e1e371b339c",
   "metadata": {
    "tags": []
   },
   "outputs": [],
   "source": [
    "# TODO: \n",
    "# 1. Filter the sysmon dataframe based on EventData.ParentImage that is associated with file creation, deletion and acesss. (See HINT 2 and 3)\n",
    "# 2. Additionally, since we know the time when gerald's account was compromised (answered in question 4), let's filter event from that time onwards. \n",
    "# Replace the empty \"\" with r\"C:\\path\\to\\file\"\n",
    "# HINT 1: There were 5 PROJECT files that were accessed\n",
    "# HINT 2: What is the full path of explorer.exe?\n",
    "# HINT 3: What is the full path of OpenWith.exe?\n",
    "\n",
    "df_sysmon_filtered = df_sysmon[(df_sysmon[\"EventData.ParentImage\"] == r\"\") | (df_sysmon[\"EventData.ParentImage\"] == r\"\")]\n",
    "df_sysmon_filtered = df_sysmon_filtered[df_sysmon_filtered[\"System.TimeCreated_attributes.SystemTime\"] >= \"\"]"
   ]
  },
  {
   "cell_type": "code",
   "execution_count": null,
   "id": "4e2966af-51b3-4ef6-ba83-419c3bb422bd",
   "metadata": {
    "tags": []
   },
   "outputs": [],
   "source": [
    "# Run this cell and answer question 7 and 8\n",
    "'''\n",
    "DO NOT TOUCH THIS SEGMENT! JUST RUN IT!\n",
    "'''\n",
    "display(HTML(\"<div style='height: 500px; overflow: auto; width: fit-content'>\" +\n",
    "             df_sysmon_filtered.style.to_html() +\n",
    "             \"</div>\"))\n"
   ]
  },
  {
   "cell_type": "code",
   "execution_count": null,
   "id": "01ed6a0a-3908-4a76-bb5d-bcb5f25abb56",
   "metadata": {
    "tags": []
   },
   "outputs": [],
   "source": [
    "# TODO:\n",
    "# 1. Using pd.read_csv(..., dtype=str), read in \"../datasets/windows/csv/Security.csv\" to a dataframe variable named 'df_security'\n",
    "# 2. Filter the security events based on the time where the first file was accessed \n",
    "# and the last file was accessed into a variable named 'df_security_filtered'\n",
    "# If you do not know where to start, please raise your hands and ask the instructors or \n",
    "# reference some of the filtering techniques I used in previous examples and replace it with the appropriate variables.\n",
    "\n",
    "df_security = pd.read_csv(\"\", dtype=str)\n",
    "df_security_filtered = df_security[df_security[\"System.TimeCreated_attributes.SystemTime\"] >= \"\"]\n",
    "df_security_filtered = df_security_filtered[df_security_filtered[\"System.TimeCreated_attributes.SystemTime\"] <= \"\"]"
   ]
  },
  {
   "cell_type": "code",
   "execution_count": null,
   "id": "a11208c5-b982-48f1-9290-a6d71f22f97e",
   "metadata": {
    "tags": []
   },
   "outputs": [],
   "source": [
    "# Run this cell and answer question 9\n",
    "# HINT: There are 4 unique event IDs associated with a file-read\n",
    "'''\n",
    "DO NOT TOUCH THIS SEGMENT! JUST RUN IT!\n",
    "'''\n",
    "useful_security_fields = [\"System.TimeCreated_attributes.SystemTime\", \n",
    "                          \"EventData.ParentProcessName\", \n",
    "                          \"EventData.ProcessName\", \n",
    "                          \"EventData.CommandLine\",\n",
    "                          \"EventData.ObjectType\",\n",
    "                          \"System.EventID\"]\n",
    "display(HTML(\"<div style='height: 500px; overflow: auto; width: fit-content'>\" +\n",
    "             df_security_filtered[useful_security_fields].style.to_html() +\n",
    "             \"</div>\"))"
   ]
  },
  {
   "cell_type": "code",
   "execution_count": null,
   "id": "c8ebb76d-c95f-408e-9d60-0bc4bde16249",
   "metadata": {},
   "outputs": [],
   "source": []
  }
 ],
 "metadata": {
  "kernelspec": {
   "display_name": "Python 3 (ipykernel)",
   "language": "python",
   "name": "python3"
  },
  "language_info": {
   "codemirror_mode": {
    "name": "ipython",
    "version": 3
   },
   "file_extension": ".py",
   "mimetype": "text/x-python",
   "name": "python",
   "nbconvert_exporter": "python",
   "pygments_lexer": "ipython3",
   "version": "3.9.13"
  }
 },
 "nbformat": 4,
 "nbformat_minor": 5
}
