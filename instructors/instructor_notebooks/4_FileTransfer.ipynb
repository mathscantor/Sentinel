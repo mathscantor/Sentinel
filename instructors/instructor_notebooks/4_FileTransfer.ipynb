{
 "cells": [
  {
   "cell_type": "code",
   "execution_count": 1,
   "id": "304db92e-b48b-486d-a5ee-9d7e204184ca",
   "metadata": {
    "tags": []
   },
   "outputs": [],
   "source": [
    "import pandas as pd\n",
    "from IPython.display import display, HTML\n",
    "pd.set_option(\"display.max_rows\", None)"
   ]
  },
  {
   "cell_type": "code",
   "execution_count": 2,
   "id": "d75d3ae9-a356-4dd7-bf54-da539dc4cdcd",
   "metadata": {
    "tags": []
   },
   "outputs": [],
   "source": [
    "df_sysmon = pd.read_csv(\"../datasets/windows/csv/Sysmon.csv\", dtype=str)"
   ]
  },
  {
   "cell_type": "code",
   "execution_count": 3,
   "id": "21868c0f-f78d-4186-88da-a0a42c6e9710",
   "metadata": {
    "tags": []
   },
   "outputs": [],
   "source": [
    "# TODO:\n",
    "# 1. Look for any signs of exfiltrating files by filtering for cmd.exe OR powershell.exe.\n",
    "# 2. Filter events only after the user account got compromised\n",
    "# HINT 1: Filter using the 'EventData.ParentImage' for df_sysmon\n",
    "# HINT 2: What is the full path of cmd.exe and powershell.exe?\n",
    "\n",
    "df_sysmon_filtered = df_sysmon[(df_sysmon[\"EventData.ParentImage\"] == r\"C:\\Windows\\System32\\WindowsPowerShell\\v1.0\\powershell.exe\") | (df_sysmon[\"EventData.ParentImage\"] == r\"C:\\Windows\\System32\\cmd.exe\")]\n",
    "df_sysmon_filtered = df_sysmon_filtered[df_sysmon_filtered[\"System.TimeCreated_attributes.SystemTime\"] >= \"2023-02-10T07:36:35.219007Z\"]"
   ]
  },
  {
   "cell_type": "code",
   "execution_count": 4,
   "id": "e1fc7f4f-0839-4e49-97c9-4a96dd52b53e",
   "metadata": {
    "tags": []
   },
   "outputs": [
    {
     "data": {
      "text/html": [
       "<div style='height: 500px; overflow: auto; width: fit-content'><style type=\"text/css\">\n",
       "</style>\n",
       "<table id=\"T_0e601\">\n",
       "  <thead>\n",
       "    <tr>\n",
       "      <th class=\"blank level0\" >&nbsp;</th>\n",
       "      <th id=\"T_0e601_level0_col0\" class=\"col_heading level0 col0\" >System.TimeCreated_attributes.SystemTime</th>\n",
       "      <th id=\"T_0e601_level0_col1\" class=\"col_heading level0 col1\" >EventData.ParentImage</th>\n",
       "      <th id=\"T_0e601_level0_col2\" class=\"col_heading level0 col2\" >EventData.CommandLine</th>\n",
       "      <th id=\"T_0e601_level0_col3\" class=\"col_heading level0 col3\" >EventData.User</th>\n",
       "    </tr>\n",
       "  </thead>\n",
       "  <tbody>\n",
       "    <tr>\n",
       "      <th id=\"T_0e601_level0_row0\" class=\"row_heading level0 row0\" >193</th>\n",
       "      <td id=\"T_0e601_row0_col0\" class=\"data row0 col0\" >2023-02-10T07:56:46.725909Z</td>\n",
       "      <td id=\"T_0e601_row0_col1\" class=\"data row0 col1\" >C:\\Windows\\System32\\cmd.exe</td>\n",
       "      <td id=\"T_0e601_row0_col2\" class=\"data row0 col2\" >\"C:\\Windows\\System32\\OpenSSH\\scp.exe\"  -r -f Desktop/Projects</td>\n",
       "      <td id=\"T_0e601_row0_col3\" class=\"data row0 col3\" >WIN-4CKB6CSHOSJ\\gerald</td>\n",
       "    </tr>\n",
       "    <tr>\n",
       "      <th id=\"T_0e601_level0_row1\" class=\"row_heading level0 row1\" >206</th>\n",
       "      <td id=\"T_0e601_row1_col0\" class=\"data row1 col0\" >2023-02-10T07:59:07.895786Z</td>\n",
       "      <td id=\"T_0e601_row1_col1\" class=\"data row1 col1\" >C:\\Windows\\System32\\cmd.exe</td>\n",
       "      <td id=\"T_0e601_row1_col2\" class=\"data row1 col2\" >\"C:\\Windows\\System32\\OpenSSH\\scp.exe\"  -r -t AppData/Local/Temp</td>\n",
       "      <td id=\"T_0e601_row1_col3\" class=\"data row1 col3\" >WIN-4CKB6CSHOSJ\\gerald</td>\n",
       "    </tr>\n",
       "    <tr>\n",
       "      <th id=\"T_0e601_level0_row2\" class=\"row_heading level0 row2\" >210</th>\n",
       "      <td id=\"T_0e601_row2_col0\" class=\"data row2 col0\" >2023-02-10T07:59:47.905061Z</td>\n",
       "      <td id=\"T_0e601_row2_col1\" class=\"data row2 col1\" >C:\\Windows\\System32\\cmd.exe</td>\n",
       "      <td id=\"T_0e601_row2_col2\" class=\"data row2 col2\" >powershell</td>\n",
       "      <td id=\"T_0e601_row2_col3\" class=\"data row2 col3\" >WIN-4CKB6CSHOSJ\\gerald</td>\n",
       "    </tr>\n",
       "    <tr>\n",
       "      <th id=\"T_0e601_level0_row3\" class=\"row_heading level0 row3\" >245</th>\n",
       "      <td id=\"T_0e601_row3_col0\" class=\"data row3 col0\" >2023-02-10T08:06:38.231547Z</td>\n",
       "      <td id=\"T_0e601_row3_col1\" class=\"data row3 col1\" >C:\\Windows\\System32\\cmd.exe</td>\n",
       "      <td id=\"T_0e601_row3_col2\" class=\"data row3 col2\" >whoami  /all</td>\n",
       "      <td id=\"T_0e601_row3_col3\" class=\"data row3 col3\" >WIN-4CKB6CSHOSJ\\Administrator</td>\n",
       "    </tr>\n",
       "    <tr>\n",
       "      <th id=\"T_0e601_level0_row4\" class=\"row_heading level0 row4\" >250</th>\n",
       "      <td id=\"T_0e601_row4_col0\" class=\"data row4 col0\" >2023-02-10T08:08:04.014187Z</td>\n",
       "      <td id=\"T_0e601_row4_col1\" class=\"data row4 col1\" >C:\\Windows\\System32\\cmd.exe</td>\n",
       "      <td id=\"T_0e601_row4_col2\" class=\"data row4 col2\" >\"C:\\Windows\\System32\\OpenSSH\\scp.exe\"  -f C:/Users/keith/Desktop/important_passwords.txt.txt</td>\n",
       "      <td id=\"T_0e601_row4_col3\" class=\"data row4 col3\" >WIN-4CKB6CSHOSJ\\Administrator</td>\n",
       "    </tr>\n",
       "  </tbody>\n",
       "</table>\n",
       "</div>"
      ],
      "text/plain": [
       "<IPython.core.display.HTML object>"
      ]
     },
     "metadata": {},
     "output_type": "display_data"
    }
   ],
   "source": [
    "# Run this cell and answer question 10 and 11.\n",
    "'''\n",
    "DO NOT TOUCH THIS SEGMENT! JUST RUN IT!\n",
    "'''\n",
    "useful_sysmon_fields = [\"System.TimeCreated_attributes.SystemTime\",\n",
    "                        \"EventData.ParentImage\",\n",
    "                        \"EventData.CommandLine\",\n",
    "                        \"EventData.User\"]\n",
    "display(HTML(\"<div style='height: 500px; overflow: auto; width: fit-content'>\" +\n",
    "             df_sysmon_filtered[useful_sysmon_fields].style.to_html() +\n",
    "             \"</div>\"))\n",
    "\n",
    "# We will notice that we are still missing some information on how the attacker managed to privilege escalate."
   ]
  }
 ],
 "metadata": {
  "kernelspec": {
   "display_name": "Python 3 (ipykernel)",
   "language": "python",
   "name": "python3"
  },
  "language_info": {
   "codemirror_mode": {
    "name": "ipython",
    "version": 3
   },
   "file_extension": ".py",
   "mimetype": "text/x-python",
   "name": "python",
   "nbconvert_exporter": "python",
   "pygments_lexer": "ipython3",
   "version": "3.9.13"
  }
 },
 "nbformat": 4,
 "nbformat_minor": 5
}
