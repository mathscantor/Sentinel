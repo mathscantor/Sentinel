{
 "cells": [
  {
   "cell_type": "code",
   "execution_count": null,
   "id": "349616f8-1076-403a-90bb-8a97e3a79671",
   "metadata": {
    "tags": []
   },
   "outputs": [],
   "source": [
    "import pandas as pd\n",
    "from IPython.display import Image"
   ]
  },
  {
   "cell_type": "code",
   "execution_count": null,
   "id": "fdb0cb2f-0984-4a08-a86f-931b0d9d75f3",
   "metadata": {
    "tags": []
   },
   "outputs": [],
   "source": [
    "# Dataframes related to Window's Audit Logs\n",
    "df_application = pd.read_csv(\"../datasets/windows/csv/Application.csv\", dtype=str)\n",
    "df_security = pd.read_csv(\"../datasets/windows/csv/Security.csv\", dtype=str)\n",
    "df_system = pd.read_csv(\"../datasets/windows/csv/System.csv\", dtype=str)\n",
    "\n",
    "# Dataframes related to remote connections\n",
    "df_openssh = pd.read_csv(\"../datasets/windows/csv/OpenSSH.csv\", dtype=str)\n",
    "df_rdp = pd.read_csv(\"../datasets/windows/csv/RDP.csv\", dtype=str)\n",
    "\n",
    "# Dataframes related to events captured by Sysmon (more comprehensive)\n",
    "df_sysmon = pd.read_csv(\"../datasets/windows/csv/Sysmon.csv\", dtype=str)"
   ]
  },
  {
   "cell_type": "code",
   "execution_count": null,
   "id": "73fb8359-6f8d-47e6-8cdb-8fca45c5b475",
   "metadata": {
    "tags": []
   },
   "outputs": [],
   "source": [
    "'''\n",
    "Let's take a quick peek at the first 5 rows of data for each csv file to know what we are dealing with.\n",
    "'''\n",
    "df_application.head(5)"
   ]
  },
  {
   "cell_type": "code",
   "execution_count": null,
   "id": "40f13cdb-9f0f-4f8e-83eb-dba92087a50e",
   "metadata": {
    "tags": []
   },
   "outputs": [],
   "source": [
    "df_security.head(5)"
   ]
  },
  {
   "cell_type": "code",
   "execution_count": null,
   "id": "99bc31a1-dc93-418a-b865-8ac7eafe1e62",
   "metadata": {
    "tags": []
   },
   "outputs": [],
   "source": [
    "df_system.head(5)"
   ]
  },
  {
   "cell_type": "code",
   "execution_count": null,
   "id": "2ebd3d4d-aacb-4c0d-8308-a9843cc64ff3",
   "metadata": {
    "tags": []
   },
   "outputs": [],
   "source": [
    "df_openssh.head(5)"
   ]
  },
  {
   "cell_type": "code",
   "execution_count": null,
   "id": "ddc5704f-0899-43dd-a9c8-3b1f2ce7dca1",
   "metadata": {
    "tags": []
   },
   "outputs": [],
   "source": [
    "df_rdp.head(5)"
   ]
  },
  {
   "cell_type": "code",
   "execution_count": null,
   "id": "5c86da2b-613e-438e-bbaf-4bfad84076f2",
   "metadata": {
    "tags": []
   },
   "outputs": [],
   "source": [
    "df_sysmon.head(5)"
   ]
  },
  {
   "cell_type": "code",
   "execution_count": null,
   "id": "58af362c-0419-4b11-8aa8-177e5d1e2a36",
   "metadata": {
    "tags": []
   },
   "outputs": [],
   "source": [
    "'''\n",
    "Netork Diagram\n",
    "'''\n",
    "Image(filename='../images/network_diagram.png') "
   ]
  },
  {
   "cell_type": "markdown",
   "id": "67084151-95a7-457c-b1aa-5c933df3fe1e",
   "metadata": {
    "tags": []
   },
   "source": [
    "## Remote Desktop Protocol Definition\n",
    "```\n",
    "Remote Desktop Protocol is a proprietary protocol developed by \n",
    "Microsoft which provides a user with a graphical interface to \n",
    "connect to another computer over a network connection.\n",
    "```\n",
    "\n",
    "## OpenSSH Definition\n",
    "```\n",
    "OpenSSH is the premier connectivity tool for remote login with the SSH protocol. \n",
    "It encrypts all traffic to eliminate eavesdropping, connection hijacking, and other attacks. \n",
    "In addition, OpenSSH provides a large suite of secure tunneling capabilities, \n",
    "several authentication methods, and sophisticated configuration options.\n",
    "```"
   ]
  },
  {
   "cell_type": "markdown",
   "id": "b865b09d-7552-4982-9054-d411d07a3d66",
   "metadata": {},
   "source": []
  }
 ],
 "metadata": {
  "kernelspec": {
   "display_name": "Python 3 (ipykernel)",
   "language": "python",
   "name": "python3"
  },
  "language_info": {
   "codemirror_mode": {
    "name": "ipython",
    "version": 3
   },
   "file_extension": ".py",
   "mimetype": "text/x-python",
   "name": "python",
   "nbconvert_exporter": "python",
   "pygments_lexer": "ipython3",
   "version": "3.9.13"
  }
 },
 "nbformat": 4,
 "nbformat_minor": 5
}
